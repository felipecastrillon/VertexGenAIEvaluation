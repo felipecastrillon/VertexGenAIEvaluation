{
 "cells": [
  {
   "cell_type": "markdown",
   "id": "4b349db6-d57f-4348-9df8-1ca5312ff31a",
   "metadata": {
    "jupyter": {
     "source_hidden": true
    },
    "tags": []
   },
   "source": [
    "# Sample Summarization Evaluation Example"
   ]
  },
  {
   "cell_type": "markdown",
   "id": "ba3a2e9a-3518-4a04-be80-15a12307bf41",
   "metadata": {},
   "source": [
    "Clone the repo and pip install it along with the requirements:"
   ]
  },
  {
   "cell_type": "code",
   "execution_count": 2,
   "id": "8754e051-babc-461f-be35-d574643b0238",
   "metadata": {
    "collapsed": true,
    "jupyter": {
     "outputs_hidden": true
    },
    "tags": []
   },
   "outputs": [
    {
     "name": "stdout",
     "output_type": "stream",
     "text": [
      "Untitled.ipynb\n",
      "VertexGenAIEvaluation\n",
      "run-eval-examples.ipynb\n",
      "Processing ./dist/vertexgenaieval-1.0-py3-none-any.whl\n",
      "Installing collected packages: vertexgenaieval\n",
      "Successfully installed vertexgenaieval-1.0\n",
      "Collecting pytest>=7.4.0 (from -r requirements.txt (line 1))\n",
      "  Using cached pytest-7.4.0-py3-none-any.whl (323 kB)\n",
      "Requirement already satisfied: pandas>=1.3.5 in /opt/conda/lib/python3.7/site-packages (from -r requirements.txt (line 2)) (1.3.5)\n",
      "Collecting google-cloud>=0.34.0 (from -r requirements.txt (line 3))\n",
      "  Using cached google_cloud-0.34.0-py2.py3-none-any.whl (1.8 kB)\n",
      "Requirement already satisfied: google-cloud-aiplatform>=1.28.1 in /home/jupyter/.local/lib/python3.7/site-packages (from -r requirements.txt (line 4)) (1.30.1)\n",
      "Collecting nltk>=3.8.1 (from -r requirements.txt (line 5))\n",
      "  Using cached nltk-3.8.1-py3-none-any.whl (1.5 MB)\n",
      "Requirement already satisfied: numpy>=1.21.6 in /home/jupyter/.local/lib/python3.7/site-packages (from -r requirements.txt (line 6)) (1.21.6)\n",
      "Requirement already satisfied: scikit-learn>=1.0.2 in /opt/conda/lib/python3.7/site-packages (from -r requirements.txt (line 8)) (1.0.2)\n",
      "Collecting vertexai>=0.0.1 (from -r requirements.txt (line 9))\n",
      "  Using cached vertexai-0.0.1-py3-none-any.whl (6.0 kB)\n",
      "Collecting iniconfig (from pytest>=7.4.0->-r requirements.txt (line 1))\n",
      "  Using cached iniconfig-2.0.0-py3-none-any.whl (5.9 kB)\n",
      "Requirement already satisfied: packaging in /home/jupyter/.local/lib/python3.7/site-packages (from pytest>=7.4.0->-r requirements.txt (line 1)) (21.3)\n",
      "Requirement already satisfied: pluggy<2.0,>=0.12 in /opt/conda/lib/python3.7/site-packages (from pytest>=7.4.0->-r requirements.txt (line 1)) (1.0.0)\n",
      "Requirement already satisfied: exceptiongroup>=1.0.0rc8 in /opt/conda/lib/python3.7/site-packages (from pytest>=7.4.0->-r requirements.txt (line 1)) (1.1.1)\n",
      "Requirement already satisfied: tomli>=1.0.0 in /opt/conda/lib/python3.7/site-packages (from pytest>=7.4.0->-r requirements.txt (line 1)) (2.0.1)\n",
      "Requirement already satisfied: importlib-metadata>=0.12 in /opt/conda/lib/python3.7/site-packages (from pytest>=7.4.0->-r requirements.txt (line 1)) (4.11.4)\n",
      "Requirement already satisfied: python-dateutil>=2.7.3 in /opt/conda/lib/python3.7/site-packages (from pandas>=1.3.5->-r requirements.txt (line 2)) (2.8.2)\n",
      "Requirement already satisfied: pytz>=2017.3 in /opt/conda/lib/python3.7/site-packages (from pandas>=1.3.5->-r requirements.txt (line 2)) (2023.3)\n",
      "Requirement already satisfied: google-api-core[grpc]!=2.0.*,!=2.1.*,!=2.2.*,!=2.3.*,!=2.4.*,!=2.5.*,!=2.6.*,!=2.7.*,<3.0.0dev,>=1.32.0 in /home/jupyter/.local/lib/python3.7/site-packages (from google-cloud-aiplatform>=1.28.1->-r requirements.txt (line 4)) (2.11.0)\n",
      "Requirement already satisfied: proto-plus<2.0.0dev,>=1.22.0 in /opt/conda/lib/python3.7/site-packages (from google-cloud-aiplatform>=1.28.1->-r requirements.txt (line 4)) (1.22.2)\n",
      "Requirement already satisfied: protobuf!=3.20.0,!=3.20.1,!=4.21.0,!=4.21.1,!=4.21.2,!=4.21.3,!=4.21.4,!=4.21.5,<5.0.0dev,>=3.19.5 in /home/jupyter/.local/lib/python3.7/site-packages (from google-cloud-aiplatform>=1.28.1->-r requirements.txt (line 4)) (3.19.6)\n",
      "Requirement already satisfied: google-cloud-storage<3.0.0dev,>=1.32.0 in /home/jupyter/.local/lib/python3.7/site-packages (from google-cloud-aiplatform>=1.28.1->-r requirements.txt (line 4)) (1.44.0)\n",
      "Requirement already satisfied: google-cloud-bigquery<4.0.0dev,>=1.15.0 in /opt/conda/lib/python3.7/site-packages (from google-cloud-aiplatform>=1.28.1->-r requirements.txt (line 4)) (3.11.0)\n",
      "Requirement already satisfied: google-cloud-resource-manager<3.0.0dev,>=1.3.3 in /opt/conda/lib/python3.7/site-packages (from google-cloud-aiplatform>=1.28.1->-r requirements.txt (line 4)) (1.10.1)\n",
      "Requirement already satisfied: shapely<2.0.0 in /opt/conda/lib/python3.7/site-packages (from google-cloud-aiplatform>=1.28.1->-r requirements.txt (line 4)) (1.8.5.post1)\n",
      "Requirement already satisfied: click in /opt/conda/lib/python3.7/site-packages (from nltk>=3.8.1->-r requirements.txt (line 5)) (8.1.3)\n",
      "Requirement already satisfied: joblib in /home/jupyter/.local/lib/python3.7/site-packages (from nltk>=3.8.1->-r requirements.txt (line 5)) (0.14.1)\n",
      "Collecting regex>=2021.8.3 (from nltk>=3.8.1->-r requirements.txt (line 5))\n",
      "  Using cached regex-2023.8.8-cp37-cp37m-manylinux_2_17_x86_64.manylinux2014_x86_64.whl (758 kB)\n",
      "Requirement already satisfied: tqdm in /opt/conda/lib/python3.7/site-packages (from nltk>=3.8.1->-r requirements.txt (line 5)) (4.63.0)\n",
      "Requirement already satisfied: scipy>=1.1.0 in /opt/conda/lib/python3.7/site-packages (from scikit-learn>=1.0.2->-r requirements.txt (line 8)) (1.7.3)\n",
      "Requirement already satisfied: threadpoolctl>=2.0.0 in /opt/conda/lib/python3.7/site-packages (from scikit-learn>=1.0.2->-r requirements.txt (line 8)) (3.1.0)\n",
      "Requirement already satisfied: googleapis-common-protos<2.0dev,>=1.56.2 in /home/jupyter/.local/lib/python3.7/site-packages (from google-api-core[grpc]!=2.0.*,!=2.1.*,!=2.2.*,!=2.3.*,!=2.4.*,!=2.5.*,!=2.6.*,!=2.7.*,<3.0.0dev,>=1.32.0->google-cloud-aiplatform>=1.28.1->-r requirements.txt (line 4)) (1.56.3)\n",
      "Requirement already satisfied: google-auth<3.0dev,>=2.14.1 in /home/jupyter/.local/lib/python3.7/site-packages (from google-api-core[grpc]!=2.0.*,!=2.1.*,!=2.2.*,!=2.3.*,!=2.4.*,!=2.5.*,!=2.6.*,!=2.7.*,<3.0.0dev,>=1.32.0->google-cloud-aiplatform>=1.28.1->-r requirements.txt (line 4)) (2.16.0)\n",
      "Requirement already satisfied: requests<3.0.0dev,>=2.18.0 in /opt/conda/lib/python3.7/site-packages (from google-api-core[grpc]!=2.0.*,!=2.1.*,!=2.2.*,!=2.3.*,!=2.4.*,!=2.5.*,!=2.6.*,!=2.7.*,<3.0.0dev,>=1.32.0->google-cloud-aiplatform>=1.28.1->-r requirements.txt (line 4)) (2.31.0)\n",
      "Requirement already satisfied: grpcio<2.0dev,>=1.33.2 in /opt/conda/lib/python3.7/site-packages (from google-api-core[grpc]!=2.0.*,!=2.1.*,!=2.2.*,!=2.3.*,!=2.4.*,!=2.5.*,!=2.6.*,!=2.7.*,<3.0.0dev,>=1.32.0->google-cloud-aiplatform>=1.28.1->-r requirements.txt (line 4)) (1.51.3)\n",
      "Requirement already satisfied: grpcio-status<2.0dev,>=1.33.2 in /opt/conda/lib/python3.7/site-packages (from google-api-core[grpc]!=2.0.*,!=2.1.*,!=2.2.*,!=2.3.*,!=2.4.*,!=2.5.*,!=2.6.*,!=2.7.*,<3.0.0dev,>=1.32.0->google-cloud-aiplatform>=1.28.1->-r requirements.txt (line 4)) (1.48.2)\n",
      "Requirement already satisfied: google-cloud-core<3.0.0dev,>=1.6.0 in /home/jupyter/.local/lib/python3.7/site-packages (from google-cloud-bigquery<4.0.0dev,>=1.15.0->google-cloud-aiplatform>=1.28.1->-r requirements.txt (line 4)) (2.3.1)\n",
      "Requirement already satisfied: google-resumable-media<3.0dev,>=0.6.0 in /opt/conda/lib/python3.7/site-packages (from google-cloud-bigquery<4.0.0dev,>=1.15.0->google-cloud-aiplatform>=1.28.1->-r requirements.txt (line 4)) (2.5.0)\n",
      "Requirement already satisfied: grpc-google-iam-v1<1.0.0dev,>=0.12.4 in /opt/conda/lib/python3.7/site-packages (from google-cloud-resource-manager<3.0.0dev,>=1.3.3->google-cloud-aiplatform>=1.28.1->-r requirements.txt (line 4)) (0.12.6)\n",
      "Requirement already satisfied: six in /opt/conda/lib/python3.7/site-packages (from google-cloud-storage<3.0.0dev,>=1.32.0->google-cloud-aiplatform>=1.28.1->-r requirements.txt (line 4)) (1.16.0)\n",
      "Requirement already satisfied: zipp>=0.5 in /opt/conda/lib/python3.7/site-packages (from importlib-metadata>=0.12->pytest>=7.4.0->-r requirements.txt (line 1)) (3.15.0)\n",
      "Requirement already satisfied: typing-extensions>=3.6.4 in /opt/conda/lib/python3.7/site-packages (from importlib-metadata>=0.12->pytest>=7.4.0->-r requirements.txt (line 1)) (4.6.3)\n",
      "Requirement already satisfied: pyparsing!=3.0.5,>=2.0.2 in /opt/conda/lib/python3.7/site-packages (from packaging->pytest>=7.4.0->-r requirements.txt (line 1)) (3.0.9)\n",
      "Requirement already satisfied: cachetools<6.0,>=2.0.0 in /home/jupyter/.local/lib/python3.7/site-packages (from google-auth<3.0dev,>=2.14.1->google-api-core[grpc]!=2.0.*,!=2.1.*,!=2.2.*,!=2.3.*,!=2.4.*,!=2.5.*,!=2.6.*,!=2.7.*,<3.0.0dev,>=1.32.0->google-cloud-aiplatform>=1.28.1->-r requirements.txt (line 4)) (4.2.4)\n",
      "Requirement already satisfied: pyasn1-modules>=0.2.1 in /opt/conda/lib/python3.7/site-packages (from google-auth<3.0dev,>=2.14.1->google-api-core[grpc]!=2.0.*,!=2.1.*,!=2.2.*,!=2.3.*,!=2.4.*,!=2.5.*,!=2.6.*,!=2.7.*,<3.0.0dev,>=1.32.0->google-cloud-aiplatform>=1.28.1->-r requirements.txt (line 4)) (0.3.0)\n",
      "Requirement already satisfied: rsa<5,>=3.1.4 in /opt/conda/lib/python3.7/site-packages (from google-auth<3.0dev,>=2.14.1->google-api-core[grpc]!=2.0.*,!=2.1.*,!=2.2.*,!=2.3.*,!=2.4.*,!=2.5.*,!=2.6.*,!=2.7.*,<3.0.0dev,>=1.32.0->google-cloud-aiplatform>=1.28.1->-r requirements.txt (line 4)) (4.9)\n",
      "Requirement already satisfied: google-crc32c<2.0dev,>=1.0 in /opt/conda/lib/python3.7/site-packages (from google-resumable-media<3.0dev,>=0.6.0->google-cloud-bigquery<4.0.0dev,>=1.15.0->google-cloud-aiplatform>=1.28.1->-r requirements.txt (line 4)) (1.5.0)\n",
      "Requirement already satisfied: charset-normalizer<4,>=2 in /opt/conda/lib/python3.7/site-packages (from requests<3.0.0dev,>=2.18.0->google-api-core[grpc]!=2.0.*,!=2.1.*,!=2.2.*,!=2.3.*,!=2.4.*,!=2.5.*,!=2.6.*,!=2.7.*,<3.0.0dev,>=1.32.0->google-cloud-aiplatform>=1.28.1->-r requirements.txt (line 4)) (3.1.0)\n",
      "Requirement already satisfied: idna<4,>=2.5 in /opt/conda/lib/python3.7/site-packages (from requests<3.0.0dev,>=2.18.0->google-api-core[grpc]!=2.0.*,!=2.1.*,!=2.2.*,!=2.3.*,!=2.4.*,!=2.5.*,!=2.6.*,!=2.7.*,<3.0.0dev,>=1.32.0->google-cloud-aiplatform>=1.28.1->-r requirements.txt (line 4)) (3.4)\n",
      "Requirement already satisfied: urllib3<3,>=1.21.1 in /opt/conda/lib/python3.7/site-packages (from requests<3.0.0dev,>=2.18.0->google-api-core[grpc]!=2.0.*,!=2.1.*,!=2.2.*,!=2.3.*,!=2.4.*,!=2.5.*,!=2.6.*,!=2.7.*,<3.0.0dev,>=1.32.0->google-cloud-aiplatform>=1.28.1->-r requirements.txt (line 4)) (1.26.16)\n",
      "Requirement already satisfied: certifi>=2017.4.17 in /opt/conda/lib/python3.7/site-packages (from requests<3.0.0dev,>=2.18.0->google-api-core[grpc]!=2.0.*,!=2.1.*,!=2.2.*,!=2.3.*,!=2.4.*,!=2.5.*,!=2.6.*,!=2.7.*,<3.0.0dev,>=1.32.0->google-cloud-aiplatform>=1.28.1->-r requirements.txt (line 4)) (2023.5.7)\n",
      "Requirement already satisfied: pyasn1<0.6.0,>=0.4.6 in /opt/conda/lib/python3.7/site-packages (from pyasn1-modules>=0.2.1->google-auth<3.0dev,>=2.14.1->google-api-core[grpc]!=2.0.*,!=2.1.*,!=2.2.*,!=2.3.*,!=2.4.*,!=2.5.*,!=2.6.*,!=2.7.*,<3.0.0dev,>=1.32.0->google-cloud-aiplatform>=1.28.1->-r requirements.txt (line 4)) (0.5.0)\n",
      "Installing collected packages: google-cloud, vertexai, regex, iniconfig, pytest, nltk\n",
      "Successfully installed google-cloud-0.34.0 iniconfig-2.0.0 nltk-3.8.1 pytest-7.4.0 regex-2023.8.8 vertexai-0.0.1\n"
     ]
    },
    {
     "name": "stderr",
     "output_type": "stream",
     "text": [
      "  WARNING: The scripts py.test and pytest are installed in '/home/jupyter/.local/bin' which is not on PATH.\n",
      "  Consider adding this directory to PATH or, if you prefer to suppress this warning, use --no-warn-script-location.\n",
      "  WARNING: The script nltk is installed in '/home/jupyter/.local/bin' which is not on PATH.\n",
      "  Consider adding this directory to PATH or, if you prefer to suppress this warning, use --no-warn-script-location.\n"
     ]
    }
   ],
   "source": [
    "%%bash\n",
    "ls\n",
    "cd ../../VertexGenAIEvaluation\n",
    "pip install dist/vertexgenaieval-1.0-py3-none-any.whl\n",
    "pip install --user -r requirements.txt"
   ]
  },
  {
   "cell_type": "markdown",
   "id": "099a06ff-a7d3-40a0-818f-4f2d3f989593",
   "metadata": {},
   "source": [
    "To begin using the package let's instantiate a model object. there are two types of models that can be created: a vanilla Palm Text model (not tuned) and a tuned Palm Text model. For the latter you will have to tune the model on the console or via the API/SDK before instantiation."
   ]
  },
  {
   "cell_type": "code",
   "execution_count": 3,
   "id": "a0b691b4-e050-4d03-92be-fc175ee74085",
   "metadata": {},
   "outputs": [],
   "source": [
    "from vertexgenaieval.classes import models\n",
    "\n",
    "model_instance =  models.PalmBisonModel(parameters = {\"temperature\":0.0,\n",
    "                                                \"top_k\":5,\n",
    "                                                \"top_p\":0.8,\n",
    "                                                \"max_output_tokens\":1000}  )"
   ]
  },
  {
   "cell_type": "markdown",
   "id": "71bd1b49-f4a8-450b-97ee-746f02cb05a6",
   "metadata": {},
   "source": [
    "Now let's read the data file and populate generated answers for each row. The prompt for each row will be created by concatenating the prefix question and the value from the context_col, the answers will be generated by passing each prompts from each row to the model object."
   ]
  },
  {
   "cell_type": "code",
   "execution_count": 4,
   "id": "03288bc7-3ec6-4467-b23c-6316e203b713",
   "metadata": {},
   "outputs": [],
   "source": [
    "from vertexgenaieval.classes import data\n",
    "\n",
    "prefix = \"summarize the following article: \"\n",
    "dataloc = \"../tests/summarization_sample.jsonl\"\n",
    "data_instance = data.Data(dataloc=dataloc, prefix_question=prefix, context_col=\"article\", ground_truth_col=\"summary\", llm_model=model_instance)"
   ]
  },
  {
   "cell_type": "markdown",
   "id": "ddf33103-f221-4734-81f5-e93b073142c6",
   "metadata": {},
   "source": [
    "Finally let's do an evaluation task comparing the generated response vs the \"ground truth\" response and get the mean score of the task:"
   ]
  },
  {
   "cell_type": "code",
   "execution_count": 5,
   "id": "2017bf60-fb0e-48a6-907b-365789878f16",
   "metadata": {},
   "outputs": [],
   "source": [
    "from vertexgenaieval.classes import evaluators\n",
    "\n",
    "evaluator_instance = evaluators.SemanticSimilarityEvaluator(data=data_instance)\n",
    "mean_score = evaluator_instance.evaluation_job()"
   ]
  },
  {
   "cell_type": "code",
   "execution_count": 6,
   "id": "18b75a2e-fd34-4cad-a3f1-6e2fbc065479",
   "metadata": {},
   "outputs": [
    {
     "name": "stdout",
     "output_type": "stream",
     "text": [
      "0.8736467003388722\n"
     ]
    }
   ],
   "source": [
    "print(mean_score)"
   ]
  },
  {
   "cell_type": "code",
   "execution_count": null,
   "id": "9dd06f6f-90d3-40d3-aec2-a6892a0f27d0",
   "metadata": {},
   "outputs": [],
   "source": []
  }
 ],
 "metadata": {
  "kernelspec": {
   "display_name": "Python (Local)",
   "language": "python",
   "name": "local-base"
  },
  "language_info": {
   "codemirror_mode": {
    "name": "ipython",
    "version": 3
   },
   "file_extension": ".py",
   "mimetype": "text/x-python",
   "name": "python",
   "nbconvert_exporter": "python",
   "pygments_lexer": "ipython3",
   "version": "3.7.12"
  }
 },
 "nbformat": 4,
 "nbformat_minor": 5
}
